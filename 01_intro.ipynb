{
 "cells": [
  {
   "cell_type": "code",
   "execution_count": null,
   "metadata": {},
   "outputs": [],
   "source": [
    "#hide\n",
    "! [ -e /content ] && pip install -Uqq fastbook\n",
    "import fastbook\n",
    "fastbook.setup_book()"
   ]
  },
  {
   "cell_type": "code",
   "execution_count": null,
   "metadata": {},
   "outputs": [],
   "source": [
    "#hide\n",
    "from fastbook import *"
   ]
  },
  {
   "cell_type": "raw",
   "metadata": {},
   "source": [
    "[[chapter_intro]]"
   ]
  },
  {
   "cell_type": "markdown",
   "metadata": {},
   "source": [
    "# Special Thanks"
   ]
  },
  {
   "cell_type": "markdown",
   "metadata": {},
   "source": [
    "This project has lived as the dormant seed of an idea for many years, waiting for the right time to sprout, grow, and bloom. \n",
    "\n",
    "Much gratitude to Bob Otis and the Sacred Garden Community Church for helping to cultivate the wisdom and cultural conditions nessisary for this endevor to prosper.\n",
    "[Ethical and Sustainable Access to Entheogenic Plants](https://chacruna.net/ethical-and-sustainable-access-to-entheogenic-plants/)\n",
    "\n",
    "And to Rick Doblin and the MAPS Team, for carrying the tourch though the dark night of the psychedelic winter in the west, which started with proabition in 1970 with the controled substances act. It is the author's opinion that without Doblin's persistant pursuite of psychedelic freedom, this book would never be writen, and we would not have the cultual freedom to discuss these matters on a free and open internet.\n",
    "\n",
    "I am also grateful that I have had the good forture to come incontact with these plants and molecules - sacred, recreational, and otherwise. "
   ]
  },
  {
   "cell_type": "markdown",
   "metadata": {},
   "source": [
    "# Your Psychedelic Heritage Garden Journey\n",
    "\n",
    "I am both a master gardener and a data scientist. The quest began with a simple inquiry: How does one grow psychedelic plants? The answer was not readily available. The books were silent, the experts were few, and the information was scattered like seeds in the wind.\n",
    "\n",
    "So I sought the answers myself. I asked, I probed, I questioned. \"Who knows how to grow this plant or that?\" The answers came slowly, from hidden corners and ancient wisdom, whispered through the grapevine of those in the know.\n",
    "\n",
    "The questions grew, branching out like the roots of the plants I sought to understand. Soil type, light exposure, propagation methods—all these were mysteries to unravel. But there were deeper questions still. How does one extract, process, and test the purity of these ethereal compounds? What rites and rituals have communities woven around these molecules, passing them down through generations like sacred heirlooms?\n",
    "\n",
    "And beyond that, a new frontier: the bioinformatics, the genetics, the sequencing, and annotation of each species. A world of genomes and protein clusters, waiting to be explored, cataloged, and understood.\n",
    "\n",
    "This book is the fruit of that journey, a harvest of knowledge gathered from the soil of curiosity, watered with persistence, and ripened in the sun of exploration. It is an invitation to join me on this path, to delve into the mysteries of the earth and the soul, and to embrace the rich heritage of our psychedelic garden."
   ]
  },
  {
   "cell_type": "markdown",
   "metadata": {},
   "source": [
    "intro"
   ]
  },
  {
   "cell_type": "code",
   "execution_count": null,
   "metadata": {},
   "outputs": [],
   "source": []
  }
 ],
 "metadata": {
  "jupytext": {
   "split_at_heading": true
  },
  "kernelspec": {
   "display_name": "Python 3 (ipykernel)",
   "language": "python",
   "name": "python3"
  }
 },
 "nbformat": 4,
 "nbformat_minor": 4
}
