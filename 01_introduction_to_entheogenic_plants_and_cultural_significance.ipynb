{
 "cells": [
  {
   "cell_type": "code",
   "execution_count": null,
   "metadata": {},
   "outputs": [],
   "source": [
    "#hide\n",
    "! [ -e /content ] && pip install -Uqq fastbook\n",
    "import fastbook\n",
    "fastbook.setup_book()"
   ]
  },
  {
   "cell_type": "code",
   "execution_count": null,
   "metadata": {},
   "outputs": [],
   "source": [
    "#hide\n",
    "from fastbook import *"
   ]
  },
  {
   "cell_type": "raw",
   "metadata": {},
   "source": [
    "[[chapter_intro]]"
   ]
  },
  {
   "cell_type": "markdown",
   "metadata": {},
   "source": [
    "# Special Thanks"
   ]
  },
  {
   "cell_type": "markdown",
   "metadata": {},
   "source": [
    "The idea lay quiet and patient, a seed waiting for its season. Years passed, yet it remained untouched, preserved for its destined moment. It needed care, nurturing, and the right soil. Then it could grow, unfold, and flower.\n",
    "\n",
    "Bob Otis and the Sacred Garden Community Church deserve thanks. They tilled the soil and sowed wisdom, crafting the environment necessary for this endeavor to thrive. [Ethical and Sustainable Access to Entheogenic Plants](https://chacruna.net/ethical-and-sustainable-access-to-entheogenic-plants/) – Bob's 2019 article is an excellent starting point.\n",
    "\n",
    "Rick Doblin and the MAPS Team held the torch during the western world's dark night of psychedelic winter. It began with prohibition in 1970 with the Controlled Substances Act. In the author's eyes, without Doblin's unwavering chase for psychedelic freedom, the book would remain unwritten. The cultural liberty to explore these subjects on an unrestricted internet would not exist.\n",
    "\n",
    "Gratitude, too, for the fortune of encountering these sacred, recreational plants and molecules. Life's winding path made it so, and for that, the heart holds appreciation.\n"
   ]
  },
  {
   "cell_type": "markdown",
   "metadata": {},
   "source": [
    "# Introduction to Entheogenic Plants and Cultural Significance\n",
    "\n",
    "I am both a master gardener and a data scientist. The quest began with a simple inquiry: How does one grow psychedelic plants? The answer was not readily available. The books were silent, the experts were few, and the information was scattered like seeds in the wind.\n",
    "\n",
    "So I sought the answers myself. I asked, I probed, I questioned. \"Who knows how to grow this plant or that?\" The answers came slowly, from hidden corners and ancient wisdom, whispered through the grapevine of those in the know.\n",
    "\n",
    "The questions grew, branching out like the roots of the plants I sought to understand. Soil type, light exposure, propagation methods—all these were mysteries to unravel. But there were deeper questions still. How does one extract, process, and test the purity of these ethereal compounds? What rites and rituals have communities woven around these molecules, passing them down through generations like sacred heirlooms?\n",
    "\n",
    "And beyond that, a new frontier: the bioinformatics, the genetics, the sequencing, and annotation of each species. A world of genomes and protein clusters, waiting to be explored, cataloged, and understood.\n",
    "\n",
    "This book is the fruit of that journey, a harvest of knowledge gathered from the soil of curiosity, watered with persistence, and ripened in the sun of exploration. It is an invitation to join me on this path, to delve into the mysteries of the earth and the soul, and to embrace the rich heritage of our psychedelic garden."
   ]
  },
  {
   "cell_type": "markdown",
   "metadata": {},
   "source": [
    "intro"
   ]
  },
  {
   "cell_type": "code",
   "execution_count": null,
   "metadata": {},
   "outputs": [],
   "source": []
  }
 ],
 "metadata": {
  "jupytext": {
   "split_at_heading": true
  },
  "kernelspec": {
   "display_name": "Python 3 (ipykernel)",
   "language": "python",
   "name": "python3"
  }
 },
 "nbformat": 4,
 "nbformat_minor": 4
}
