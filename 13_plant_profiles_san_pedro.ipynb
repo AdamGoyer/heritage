{
 "cells": [
  {
   "cell_type": "markdown",
   "metadata": {},
   "source": [
    "Trichocereus / Echinopsis sp. (“Huachuma,” “San Pedro” – grows well. Avoid using peyote, which is vulnerable – mescaline)"
   ]
  },
  {
   "cell_type": "code",
   "execution_count": null,
   "metadata": {},
   "outputs": [],
   "source": []
  }
 ],
 "metadata": {
  "language_info": {
   "name": "python"
  },
  "orig_nbformat": 4
 },
 "nbformat": 4,
 "nbformat_minor": 2
}
