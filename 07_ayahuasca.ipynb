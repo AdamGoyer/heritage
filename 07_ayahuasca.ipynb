{
 "cells": [
  {
   "cell_type": "markdown",
   "metadata": {},
   "source": [
    "Banisteriopsis sp. – (“Yage,” “Ayahuasca” – most require greenhouse, some hardy sp. have recently been demonstrated to grow outdoors year round in zone 10 – monoamine oxidase inhibitors/MAOIs) "
   ]
  },
  {
   "cell_type": "code",
   "execution_count": null,
   "metadata": {},
   "outputs": [],
   "source": []
  }
 ],
 "metadata": {
  "language_info": {
   "name": "python"
  },
  "orig_nbformat": 4
 },
 "nbformat": 4,
 "nbformat_minor": 2
}
