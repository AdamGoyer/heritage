{
 "cells": [
  {
   "cell_type": "markdown",
   "metadata": {},
   "source": [
    "Psilocybe allenii, P. cyanescens outdoors, P. cubensis indoors – (“Ninos Santos” – all can be grown locally – 4-ho-dmt, 4-po-dmt, baeocystin, norbaeocystin)"
   ]
  },
  {
   "cell_type": "code",
   "execution_count": null,
   "metadata": {},
   "outputs": [],
   "source": []
  }
 ],
 "metadata": {
  "language_info": {
   "name": "python"
  },
  "orig_nbformat": 4
 },
 "nbformat": 4,
 "nbformat_minor": 2
}
