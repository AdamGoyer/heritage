{
 "cells": [
  {
   "cell_type": "code",
   "execution_count": 1,
   "metadata": {},
   "outputs": [
    {
     "ename": "ModuleNotFoundError",
     "evalue": "No module named 'fastbook'",
     "output_type": "error",
     "traceback": [
      "\u001b[0;31m---------------------------------------------------------------------------\u001b[0m",
      "\u001b[0;31mModuleNotFoundError\u001b[0m                       Traceback (most recent call last)",
      "Cell \u001b[0;32mIn[1], line 3\u001b[0m\n\u001b[1;32m      1\u001b[0m \u001b[39m#hide\u001b[39;00m\n\u001b[1;32m      2\u001b[0m get_ipython()\u001b[39m.\u001b[39msystem(\u001b[39m'\u001b[39m\u001b[39m [ -e /content ] && pip install -Uqq fastbook\u001b[39m\u001b[39m'\u001b[39m)\n\u001b[0;32m----> 3\u001b[0m \u001b[39mimport\u001b[39;00m \u001b[39mfastbook\u001b[39;00m\n\u001b[1;32m      4\u001b[0m fastbook\u001b[39m.\u001b[39msetup_book()\n",
      "\u001b[0;31mModuleNotFoundError\u001b[0m: No module named 'fastbook'"
     ]
    }
   ],
   "source": [
    "#hide\n",
    "! [ -e /content ] && pip install -Uqq fastbook\n",
    "import fastbook\n",
    "fastbook.setup_book()"
   ]
  },
  {
   "cell_type": "code",
   "execution_count": null,
   "metadata": {},
   "outputs": [],
   "source": [
    "#hide\n",
    "from fastbook import *"
   ]
  },
  {
   "cell_type": "code",
   "execution_count": null,
   "metadata": {},
   "outputs": [],
   "source": [
    "[[chapter_02_1_chacruna_sample_chapter]]"
   ]
  },
  {
   "cell_type": "markdown",
   "metadata": {},
   "source": [
    "### Psychotria sp. – (“Chacruna” – P. alba can grow outdoors in zone 10, others may require greenhouse – n,n-dmt)"
   ]
  },
  {
   "cell_type": "markdown",
   "metadata": {},
   "source": [
    "### Chapter Summary: Chacruna (Psychotria sp.) – The Sacred Leaf of Vision\n",
    "\n",
    "**Introduction**:\n",
    "Chacruna, scientifically known as Psychotria sp., plays a crucial role in traditional Amazonian shamanic practices, particularly as a primary ingredient in the preparation of Ayahuasca. This chapter delves into the multi-dimensional aspects of Chacruna, from its cultivation to its chemical constituents and cultural significance."
   ]
  },
  {
   "cell_type": "markdown",
   "metadata": {},
   "source": [
    "**1. Ethnographic Background**:\n",
    "A historical overview of Chacruna's use in indigenous communities, exploring rituals, ceremonies, spiritual practices, and its role in Ayahuasca ceremonies, providing insight into its sacred status."
   ]
  },
  {
   "cell_type": "markdown",
   "metadata": {},
   "source": [
    "**2. Botanical Description**:\n",
    "An in-depth botanical description of Chacruna, including its appearance, growth patterns, various species like P. alba, and suitability for outdoor growing in zone 10 and greenhouse requirements for other species."
   ]
  },
  {
   "cell_type": "markdown",
   "metadata": {},
   "source": [
    "**3. Chemical Constituents**:\n",
    "A scientific exploration of Chacruna's key psychoactive compound, n,n-DMT, explaining its effects on the human brain, consciousness, and spiritual experiences."
   ]
  },
  {
   "cell_type": "markdown",
   "metadata": {},
   "source": [
    "**4. Cultivation and Ecology**:\n",
    "A comprehensive guide to growing Chacruna, covering geographical and climatic preferences, soil requirements, propagation and planting, growth and development, watering and feeding, light and temperature needs, and pest and disease management. Practical tips for outdoor cultivation in suitable zones and greenhouse growing methods are provided, ensuring successful growth."
   ]
  },
  {
   "cell_type": "markdown",
   "metadata": {},
   "source": [
    "**5. Harvesting and Preparation**:\n",
    "Step-by-step instructions on harvesting Chacruna leaves and preparing them for use in traditional practices, including guidelines on drying, preserving, and extracting the active compounds."
   ]
  },
  {
   "cell_type": "markdown",
   "metadata": {},
   "source": [
    "**6. Legal Issues and Risks**:\n",
    "A review of the legal status of Chacruna across different regions, including potential risks, concerns, ethical considerations, and legal issues related to growing, possessing, or using Chacruna."
   ]
  },
  {
   "cell_type": "markdown",
   "metadata": {},
   "source": [
    "**7. Genetic Information and Bioinformatics**:\n",
    "Insights into the bioinformatics, genetics, sequencing, and annotation for Chacruna, with links to genomes, significant protein clusters, etc."
   ]
  },
  {
   "cell_type": "markdown",
   "metadata": {},
   "source": [
    "**8. Cultural Revival and Conservation**:\n",
    "Discussion on the resurgence of interest in Chacruna and other entheogenic plants. Emphasis on conservation efforts, sustainable practices, and community engagement to preserve this botanical heritage."
   ]
  },
  {
   "cell_type": "markdown",
   "metadata": {},
   "source": [
    "**9. Conclusion**:\n",
    "A reflective summary of Chacruna's enduring legacy as a \"Leaf of Vision,\" its potential therapeutic benefits, and its place in the modern world as a bridge between ancient wisdom and contemporary spiritual exploration."
   ]
  }
 ],
 "metadata": {
  "kernelspec": {
   "display_name": "Python 3",
   "language": "python",
   "name": "python3"
  },
  "language_info": {
   "codemirror_mode": {
    "name": "ipython",
    "version": 3
   },
   "file_extension": ".py",
   "mimetype": "text/x-python",
   "name": "python",
   "nbconvert_exporter": "python",
   "pygments_lexer": "ipython3",
   "version": "3.9.6"
  },
  "orig_nbformat": 4
 },
 "nbformat": 4,
 "nbformat_minor": 2
}
